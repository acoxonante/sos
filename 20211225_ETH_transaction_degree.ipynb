{
  "nbformat": 4,
  "nbformat_minor": 0,
  "metadata": {
    "colab": {
      "name": "20211225-ETH-transaction-degree.ipynb",
      "provenance": [],
      "collapsed_sections": [],
      "include_colab_link": true
    },
    "kernelspec": {
      "name": "python3",
      "display_name": "Python 3"
    }
  },
  "cells": [
    {
      "cell_type": "markdown",
      "metadata": {
        "id": "view-in-github",
        "colab_type": "text"
      },
      "source": [
        "<a href=\"https://colab.research.google.com/github/acoxonante/sos/blob/main/20211225_ETH_transaction_degree.ipynb\" target=\"_parent\"><img src=\"https://colab.research.google.com/assets/colab-badge.svg\" alt=\"Open In Colab\"/></a>"
      ]
    },
    {
      "cell_type": "markdown",
      "metadata": {
        "id": "NifrCLIOs9Hl"
      },
      "source": [
        "Code directly extracted from the last version of the first file to get the Ethereum blockchain data.\n",
        "\n",
        "20211226 - code fine tuned\n",
        "https://www.blockchain.com/explorer?view=eth to see the latests ETH blocks"
      ]
    },
    {
      "cell_type": "code",
      "metadata": {
        "id": "b3VWh1dItER3",
        "colab": {
          "base_uri": "https://localhost:8080/"
        },
        "outputId": "ecdfb397-67dd-490d-d739-e225026b7032"
      },
      "source": [
        "import urllib\n",
        "import os.path\n",
        "import requests\n",
        "import json\n",
        "import datetime \n",
        "import datetime as dt\n",
        "\n",
        "\n",
        "#1 - preparing the user input \n",
        "\n",
        "\n",
        "ts_now = dt.datetime.now()\n",
        "\n",
        "# right directory\n",
        "cwd= os.getcwd()\n",
        "destdir = str(ts_now.year)+str(ts_now.month)+str(ts_now.day)+ \"-outcome\" \n",
        "completeNamed = os.path.join(cwd, destdir)\n",
        "\n",
        "first_block_number = input('Number of initial block to get txs from infura? [by default 11157400]:') or \"11157400\"\n",
        "last_block_number = input('Number of last block to get txs from infura? [by default 11157401]:') or \"11157401\"\n",
        "ifirst_block_number = int(first_block_number)\n",
        "ilast_block_number = int(last_block_number)\n",
        "\n",
        "# simple but effective piece of code to only create the directory if it is not created already\n",
        "if not os.path.exists(destdir):\n",
        "\tos.mkdir(destdir)\n",
        "else:\n",
        "\tpass\n",
        "\n",
        "block_number = ilast_block_number - ifirst_block_number \n",
        "block_counter =  ifirst_block_number \n",
        "\n",
        "# preparing the first output file - the entire transaction - outputfile keeps on being reused for each block\n",
        "outputfile = str(ts_now.year)+str(ts_now.month)+str(ts_now.day)+\"-ETH-json\" + \"-block.txt\"\n",
        "completeNamed = os.path.join(cwd, destdir)\n",
        "outputfilec = os.path.join(completeNamed, outputfile)\n",
        "\n",
        "# preparing the first output file - the to and from included in the transaction json file\n",
        "#outputfile2 = \"json\" + \"txidsintheblocks.txt\"\n",
        "outputfile2 = str(ts_now.year)+str(ts_now.month)+str(ts_now.day)+\"-ETH-block-\" + first_block_number +\"-to-\"+ last_block_number + \"-infura-transactions.txt\"\n",
        "completeNamed = os.path.join(cwd, destdir)\n",
        "outputfile2c = os.path.join(completeNamed, outputfile2)\n",
        "\n",
        "outputfiletime = str(ts_now.year)+str(ts_now.month)+str(ts_now.day)+ \"-ETH-block-\" + first_block_number +\"-to-\"+ last_block_number + \"-blockchain-info-time.txt\"\n",
        "completeNamed = os.path.join(cwd, destdir)\n",
        "outputfiletimec = os.path.join(completeNamed, outputfiletime)\n",
        "\n",
        "# 2 getting the input from the Internet\n",
        "# please obtain your own infura key to download ETH data\n",
        "\n",
        "while (block_counter<=ilast_block_number): \n",
        "\n",
        "\t#y_block_number = str(block_counter)\n",
        "\t#tx_number = 1\n",
        "\n",
        "\thex_block_number = str(hex(block_counter))\n",
        "\n",
        "\t# construct the infure post json request - posting the request and receiving the json structure\n",
        "\theaders = {'Content-Type': 'application/json',}\n",
        "\t#data = '{\"jsonrpc\":\"2.0\",\"method\":\"eth_getBlockByNumber\",\"params\": [\"0x5BAD55\",false],\"id\":1}'\n",
        "\tdata = \"{\\\"jsonrpc\\\":\\\"2.0\\\",\\\"method\\\":\\\"eth_getBlockByNumber\\\",\\\"params\\\": [\\\"\" + hex_block_number +\"\\\",false],\\\"id\\\":1}\"\n",
        "\tresponse = requests.post('https://mainnet.infura.io/v3/5ef1bf8a627f4ab39c59a84e45d26dc8', headers=headers, data=data)\n",
        "\tjsonresponse = response.json()\n",
        "\n",
        "# 3 writing it to a file \n",
        "\n",
        "\t# writing to an output file the entire json structure receiving from posting\n",
        "\twith open(outputfilec, 'w') as the_resultfile: # we use w and not a to save space when dealing with lots of blocks\n",
        "\t\tjson.dump(jsonresponse, the_resultfile)\n",
        "\n",
        "# 4 reading from a file\n",
        "\n",
        "\twith open(outputfilec, \"r\") as read_file:\n",
        "\t\tdatau = json.load(read_file)\n",
        "\t\t\n",
        "#5 file with timestamp inputs\n",
        "\t\t#--------\n",
        "\t\twith open(outputfiletimec, 'a') as timefile:\t\t# we keep on adding to the file to collect all timestamps\n",
        "\t\t\ttimefile.write(\"block number: \")\n",
        "\t\t\ttimefile.write(str(block_counter)) \n",
        "\t\t\ttimefile.write(\"\\n\")\n",
        "\t\t\ttimefile.write(\"time of block: \")  #20200610\n",
        "\t\t\thexunixt = datau[\"result\"][\"timestamp\"]\t\t\n",
        "\t\t\ti = int(hexunixt,16)\t\t\t\n",
        "\t\t\t#timefile.write(str(i))  #20200610\n",
        "\t\t\t#timefile.write(\"\\n\")  #20200610\n",
        "\t\t\t#timefile.write(str(datau[\"result\"][\"timestamp\"])) #20200610\t\t\t\t\t\n",
        "\t\t\t#timefile.write(\"\\n\") #20200610\n",
        "\t\t\ttimestamp = datetime.datetime.fromtimestamp(i) #20200610\n",
        "\t\t\ttimefile.write(timestamp.strftime('%Y-%m-%d %H:%M:%S')) #20200610\n",
        "\t\t\ttimefile.write(\"\\n\")\t\t\t\t\n",
        "\tprint(datau[\"result\"][\"transactions\"])\t\n",
        "\n",
        "#6 write transactions to a file\n",
        "\n",
        "\twith open(outputfile2c, \"a\") as the_tofile:\n",
        "\t#the_tofile.write(datau[\"result\"][\"transactions\"][0])\n",
        "\t\tfor i in range(len(datau[\"result\"][\"transactions\"])): \n",
        "\t\t\tthe_tofile.write(datau[\"result\"][\"transactions\"][i])\n",
        "\t\t\tthe_tofile.write(\"\\n\")\n",
        "\t\t#print(datau[\"result\"][\"transactions\"][i])\n",
        "\t    #print()\n",
        "\n",
        "\tblock_counter +=1\n",
        "\t\n"
      ],
      "execution_count": 11,
      "outputs": [
        {
          "output_type": "stream",
          "name": "stdout",
          "text": [
            "Number of initial block to get txs from infura? [by default 11157400]:1000000\n",
            "Number of last block to get txs from infura? [by default 11157401]:1000002\n",
            "['0xea1093d492a1dcb1bef708f771a99a96ff05dcab81ca76c31940300177fcf49f', '0xe9e91f1ee4b56c0df2e9f06c2b8c27c6076195a88a7b8537ba8313d80e6f124e']\n",
            "['0xefb6c796269c0d1f15fdedb5496fa196eb7fb55b601c0fa527609405519fd581']\n",
            "['0x2bd653c639c086ad1c6e468d2cbdba76fc144f747373be6d2db7854d0d0e36e7', '0x7e3abff232dd5fc72db441807bcd59d9f17311a960a8f6ff6d0e693c22fa1eb2', '0x07a911c87c6e656e2f83c30e0cbdac47789fd874c747337ad1776b7dd5238893']\n"
          ]
        }
      ]
    },
    {
      "cell_type": "code",
      "metadata": {
        "id": "sK5dmVgyJ8lA"
      },
      "source": [
        "# 1 prepare the name of the directory\n",
        "\n",
        "import urllib\n",
        "import os.path\n",
        "import requests\n",
        "import json\n",
        "\n",
        "# right directory\n",
        "cwd= os.getcwd()\n",
        "destdir = str(ts_now.year)+str(ts_now.month)+str(ts_now.day)+\"-outcome\" \n",
        "completeNamed = os.path.join(cwd, destdir)\n"
      ],
      "execution_count": 12,
      "outputs": []
    },
    {
      "cell_type": "code",
      "metadata": {
        "id": "-onDwUbDJ4X0",
        "colab": {
          "base_uri": "https://localhost:8080/"
        },
        "outputId": "ce9847b3-a068-40e8-8659-1db151701237"
      },
      "source": [
        "# use either this code snippet or the next one but not both at the same time\n",
        "# start of the input part if we need to input the data again\n",
        "first_block_number = input('Number of initial block to get txs from infura? [by default 500700]:') or \"500700\"\n",
        "last_block_number = input('Number of last block to get txs from infura? [by default 500703]:') or \"500703\"\n",
        "ifirst_block_number = int(first_block_number)\n",
        "ilast_block_number = int(last_block_number)\n",
        "\n",
        "block_number = ilast_block_number - ifirst_block_number \n",
        "block_counter =  ifirst_block_number \n",
        "\n",
        "inputfile = str(ts_now.year)+str(ts_now.month)+str(ts_now.day)+\"-ETH-block-\" + first_block_number +\"-to-\"+ last_block_number + \"-infura-transactions.txt\"\n",
        "completeNamed = os.path.join(cwd, destdir)\n",
        "inputfilec = os.path.join(completeNamed, inputfile)\n",
        "\n",
        "outputfile22 = str(ts_now.year)+str(ts_now.month)+str(ts_now.day)+ \"-ETH-block-\"+first_block_number + \"-to-\" + last_block_number + \"-json\" + \"-from-and-to.txt\"\n",
        "completeNamed = os.path.join(cwd, destdir)\n",
        "outputfile22c = os.path.join(completeNamed, outputfile22)\n",
        "\n",
        "# end of the input part if we need to input the data again"
      ],
      "execution_count": null,
      "outputs": [
        {
          "name": "stdout",
          "output_type": "stream",
          "text": [
            "Number of initial block to get txs from infura? [by default 500700]:8008000\n",
            "Number of last block to get txs from infura? [by default 500703]:800801\n"
          ]
        }
      ]
    },
    {
      "cell_type": "markdown",
      "metadata": {
        "id": "rfzOkqVTvSAS"
      },
      "source": [
        "And now we export the second file of code to get the info from ETH"
      ]
    },
    {
      "cell_type": "code",
      "metadata": {
        "id": "l9zttVbwOQ1g"
      },
      "source": [
        "# start of the input part if we continue from the first code snippet\n",
        "\n",
        "inputfilec = os.path.join(completeNamed, outputfile2c)\n",
        "\n",
        "outputfile22 = str(ts_now.year)+str(ts_now.month)+str(ts_now.day)+ \"-ETH-block-\"+first_block_number + \"-to-\" + last_block_number + \"-json\" + \"-from-and-to.txt\"\n",
        "completeNamed = os.path.join(cwd, destdir)\n",
        "outputfile22c = os.path.join(completeNamed, outputfile22)\n",
        "\n",
        "# end of the input part if we continue from the first code snippet\n"
      ],
      "execution_count": 13,
      "outputs": []
    },
    {
      "cell_type": "code",
      "metadata": {
        "id": "4LOjewwNvac5",
        "colab": {
          "base_uri": "https://localhost:8080/"
        },
        "outputId": "117aa1cd-d36e-4f95-b3bd-2c661144f259"
      },
      "source": [
        "#open the input file\n",
        "transaction_counter = 0\n",
        "f = open(inputfilec, 'r') #open the input file\n",
        "line = f.readline()\n",
        "while line:\n",
        "\tthetxhash = str(line.rstrip('\\n'))\n",
        "\tprint(thetxhash)\n",
        "\ttransaction_counter = transaction_counter +1\n",
        "# construct the infure post json request - posting the request and receiving the json structure\n",
        "\theaders = {'Content-Type': 'application/json',}\n",
        "\t#data = '{\"jsonrpc\":\"2.0\",\"method\":\"eth_getTransactionByHash\",\"params\": [\"0xbb3a336e3f823ec18197f1e13ee875700f08f03e2cab75f0d0b118dabb44cba0\"],\"id\":1}'\t\n",
        "\tdata = \"{\\\"jsonrpc\\\":\\\"2.0\\\",\\\"method\\\":\\\"eth_getTransactionByHash\\\",\\\"params\\\": [\\\"\" + thetxhash +\"\\\"],\\\"id\\\":1}\"\n",
        "\tresponse = requests.post('https://mainnet.infura.io/v3/5ef1bf8a627f4ab39c59a84e45d26dc8', headers=headers, data=data)\n",
        "\tjsonresponse = response.json()\n",
        "\n",
        "\n",
        "# preparing the first output file - the entire transaction\n",
        "\toutputfile = str(ts_now.year)+str(ts_now.month)+str(ts_now.day)+\"-ETH-json\" + \"-transaction.txt\"\n",
        "\tcompleteNamed = os.path.join(cwd, destdir)\n",
        "\toutputfilec = os.path.join(completeNamed, outputfile)\n",
        "\n",
        "# preparing the first output file - the to and from included in the transaction json file\n",
        "\t#outputfile2 = str(transaction_counter) + \"json\" + \"-from and to.txt\"\n",
        "\t\n",
        "\n",
        "\n",
        "# writing to an output file the entire json structure receiving from posting\n",
        "# we use w and not a to save space\n",
        "\twith open(outputfilec, 'w') as the_resultfile:\n",
        "\t\tjson.dump(jsonresponse, the_resultfile)\n",
        "\n",
        "\n",
        "# writing to a second output file the to and the from fields\n",
        "\twith open(outputfilec, \"r\") as read_file:\n",
        "\t\tdatau = json.load(read_file)\n",
        "#\t#data = byteify(datau)\n",
        "#\tprint(datau.keys())\n",
        "#\tprint(datau[\"result\"].keys())\t\n",
        "#\tprint(datau[\"result\"][\"to\"])\n",
        "#\tprint(datau[\"result\"][\"from\"])\n",
        "#to = str(datau[\"to\"])\n",
        "\t#print(to)\n",
        "\twith open(outputfile22c, \"a\") as the_tofile:\n",
        "\t\tthe_tofile.write(datau[\"result\"][\"from\"])\t\t\n",
        "\t\tthe_tofile.write(\" \")\n",
        "\t\tif (datau[\"result\"][\"to\"])!= None: \t\t\n",
        "\t\t\tthe_tofile.write(datau[\"result\"][\"to\"])\n",
        "\t\telse:\n",
        "\t\t\tthe_tofile.write(datau[\"result\"][\"from\"])\t\t\n",
        "\t\tthe_tofile.write(\"\\n\")\n",
        "\tline = f.readline()\n",
        "f.close()\n",
        "\n",
        "\n"
      ],
      "execution_count": 14,
      "outputs": [
        {
          "output_type": "stream",
          "name": "stdout",
          "text": [
            "0xea1093d492a1dcb1bef708f771a99a96ff05dcab81ca76c31940300177fcf49f\n",
            "0xe9e91f1ee4b56c0df2e9f06c2b8c27c6076195a88a7b8537ba8313d80e6f124e\n",
            "0xefb6c796269c0d1f15fdedb5496fa196eb7fb55b601c0fa527609405519fd581\n",
            "0x2bd653c639c086ad1c6e468d2cbdba76fc144f747373be6d2db7854d0d0e36e7\n",
            "0x7e3abff232dd5fc72db441807bcd59d9f17311a960a8f6ff6d0e693c22fa1eb2\n",
            "0x07a911c87c6e656e2f83c30e0cbdac47789fd874c747337ad1776b7dd5238893\n"
          ]
        }
      ]
    },
    {
      "cell_type": "markdown",
      "metadata": {
        "id": "rligi2AWkvVF"
      },
      "source": [
        "Now we add (20211226) the third piece of code for ETH handling"
      ]
    },
    {
      "cell_type": "code",
      "metadata": {
        "id": "m9unqHfnGBCl"
      },
      "source": [
        "# careful, this one with numbers within the graph or the next one, more tidy\n",
        "# here we define the functions we need to analise ETH from complex network perspective \n",
        "import networkx as nx\n",
        "import matplotlib.pyplot as plt\n",
        "import os.path\n",
        "\n",
        "def connected_component_subgraphs(G):\n",
        "    for c in nx.connected_components(G):\n",
        "        yield G.subgraph(c)\n",
        "\n",
        "def plot_deg_dist(G,outputfilepdf,outputfilepdflog,outputfilepdfclus,instrument, block1, block2):\n",
        "\tdegrees = G.degree()\n",
        "\tall_degrees = [v for k, v in degrees]\n",
        "\tunique_degrees= list(set(all_degrees))\n",
        "\tcount_of_degrees= []\n",
        "\tfor i in unique_degrees:\n",
        "\t\tx= all_degrees.count(i)\n",
        "\t\tcount_of_degrees.append(x)\n",
        "\tplt.plot(unique_degrees, count_of_degrees,'bo-')\n",
        "\t#plt.loglog(unique_degrees, count_of_degrees,'bo-')\n",
        "\tplt.xlabel('Degrees')\n",
        "\tplt.ylabel('Number of nodes')\n",
        "\tplt.title('Degree distribution of '+instrument+ ' Txs. Blocks ' + block1 +' to '+ block2)\n",
        "\tfor x,y in zip(unique_degrees,count_of_degrees):\n",
        "\t\tlabel = \"{0:}\".format(y)\n",
        "\t\tif y > 150:\t    \n",
        "\t  \t\tplt.annotate(label, # this is the text\n",
        "\t                 (x,y), # this is the point to label\n",
        "\t                 textcoords=\"offset points\", # how to position the text\n",
        "\t                 xytext=(0,10), # distance from text to points (x,y)\n",
        "\t                 ha='center') # horizontal alignment can be left, right or center\n",
        "\n",
        "\tplt.savefig(outputfilepdf)\n",
        "\tplt.show()\n",
        "\n",
        "\tdegrees = G.degree()\n",
        "\tall_degrees = [v for k, v in degrees]\n",
        "\tunique_degrees= list(set(all_degrees))\n",
        "\tcount_of_degrees= []\n",
        "\tfor i in unique_degrees:\n",
        "\t\tx= all_degrees.count(i)\n",
        "\t\tcount_of_degrees.append(x)\n",
        "\tplt.loglog(unique_degrees, count_of_degrees,'bo-')\n",
        "\tplt.xlabel('Degree')\n",
        "\tplt.ylabel('Number of nodes')\n",
        "\tplt.title('Log-log degree distribution of '+instrument+ ' Txs. Blocks ' + block1 +' to '+ block2)\n",
        "\tfor x,y in zip(unique_degrees,count_of_degrees):\n",
        "\t\tlabel = \"{0:}\".format(y)\n",
        "\t\tif y > 50:\t    \n",
        "\t  \t\tplt.annotate(label, # this is the text\n",
        "\t                 (x,y), # this is the point to label\n",
        "\t                 textcoords=\"offset points\", # how to position the text\n",
        "\t                 xytext=(0,10), # distance from text to points (x,y)\n",
        "\t                 ha='center') # horizontal alignment can be left, right or center\n",
        "\n",
        "\tplt.savefig(outputfilepdflog)\n",
        "\tplt.show()\n",
        "\n",
        "#-------------\n",
        "\tclusters = nx.clustering(G).items()\n",
        "\tall_clusters = [v for k, v in clusters]\n",
        "\tunique_clusters= list(set(all_clusters))\n",
        "\tcount_of_clusters= []\n",
        "\tfor i in unique_clusters:\n",
        "\t\tx= all_clusters.count(i) \n",
        "\t\tcount_of_clusters.append(x)\n",
        "\tplt.plot(count_of_clusters,unique_clusters,'bo')\n",
        "\tplt.xscale('log')\n",
        "\tplt.ylabel('Clustering coefficient')\n",
        "\tplt.xlabel('Number of nodes')\n",
        "\tplt.title('Distribution of clustering coefficients in '+instrument+ ' Txs. Blocks ' + block1 +' to '+ block2)\n",
        "\tfor x,y in zip(count_of_clusters,unique_clusters):\n",
        "\t\tlabel = \"{0:}\".format(x)\n",
        "\t\tif x > 2:\t    \n",
        "\t  \t\tplt.annotate(label, # this is the text\n",
        "\t                 (x,y), # this is the point to label\n",
        "\t                 textcoords=\"offset points\", # how to position the text\n",
        "\t                 xytext=(0,10), # distance from text to points (x,y)\n",
        "\t                 ha='center') # horizontal alignment can be left, right or center\n",
        "\tplt.savefig(outputfilepdfclus)\n",
        "\tplt.show()"
      ],
      "execution_count": 5,
      "outputs": []
    },
    {
      "cell_type": "code",
      "metadata": {
        "id": "SR7-0ibMHc50"
      },
      "source": [
        "#20211226 - finetune for the 20211231 paper\n",
        "#20211231 - preparation for the powerlaw code\n",
        "\n",
        "\n",
        "# here we define the functions we need to analise ETH from complex network perspective \n",
        "import networkx as nx\n",
        "import matplotlib.pyplot as plt\n",
        "import os.path\n",
        "\n",
        "def connected_component_subgraphs(G):\n",
        "    for c in nx.connected_components(G):\n",
        "        yield G.subgraph(c)\n",
        "\n",
        "def plot_deg_dist(G,outputfilepdf,outputfilepdflog,outputfilepdfclus,instrument, block1, block2):\n",
        "\tdegrees = G.degree()\n",
        "\tall_degrees = [v for k, v in degrees]\n",
        "\tunique_degrees= list(set(all_degrees))\n",
        "\tcount_of_degrees= []\n",
        "\tfor i in unique_degrees:\n",
        "\t\tx= all_degrees.count(i)\n",
        "\t\tcount_of_degrees.append(x)\n",
        "\tplt.plot(unique_degrees, count_of_degrees,'bo-')\n",
        "\t#plt.loglog(unique_degrees, count_of_degrees,'bo-')\n",
        "\tplt.xlabel('Degrees')\n",
        "\tplt.ylabel('Number of nodes')\n",
        "\tplt.title('Degree distribution of '+instrument+ ' Txs. Blocks ' + block1 +' to '+ block2)\n",
        "#\tfor x,y in zip(unique_degrees,count_of_degrees):\n",
        "#\t\tlabel = \"{0:}\".format(y)\n",
        "#\t\tif y > 150:\t    \n",
        "#\t  \t\tplt.annotate(label, # this is the text\n",
        "#\t                 (x,y), # this is the point to label\n",
        "#\t                 textcoords=\"offset points\", # how to position the text\n",
        "#\t                 xytext=(0,10), # distance from text to points (x,y)\n",
        "#\t                 ha='center') # horizontal alignment can be left, right or center\n",
        "\n",
        "\tplt.savefig(outputfilepdf)\n",
        "\tplt.show()\n",
        "\n",
        "\tdegrees = G.degree()\n",
        "\tall_degrees = [v for k, v in degrees]\n",
        "\tunique_degrees= list(set(all_degrees))\n",
        "\tcount_of_degrees= []\n",
        "\tfor i in unique_degrees:\n",
        "\t\tx= all_degrees.count(i)\n",
        "\t\tcount_of_degrees.append(x)\n",
        "\tplt.loglog(unique_degrees, count_of_degrees,'bo-')\n",
        "\tplt.xlabel('Degree')\n",
        "\tplt.ylabel('Number of nodes')\n",
        "\tplt.title('Log-log degree distribution of '+instrument+ ' Txs. Blocks ' + block1 +' to '+ block2)\n",
        "#\tfor x,y in zip(unique_degrees,count_of_degrees):\n",
        "#\t\tlabel = \"{0:}\".format(y)\n",
        "#\t\tif y > 50:\t    \n",
        "#\t  \t\tplt.annotate(label, # this is the text\n",
        "#\t                 (x,y), # this is the point to label\n",
        "#\t                 textcoords=\"offset points\", # how to position the text\n",
        "#\t                 xytext=(0,10), # distance from text to points (x,y)\n",
        "#\t                 ha='center') # horizontal alignment can be left, right or center\n",
        "\n",
        "\tplt.savefig(outputfilepdflog)\n",
        "\tplt.show()\n",
        "\n",
        "#-------------\n",
        "#\tclusters = nx.clustering(G).items()\n",
        "#\tall_clusters = [v for k, v in clusters]\n",
        "#\tunique_clusters= list(set(all_clusters))\n",
        "#\tcount_of_clusters= []\n",
        "#\tfor i in unique_clusters:\n",
        "#\t\tx= all_clusters.count(i) \n",
        "#\t\tcount_of_clusters.append(x)\n",
        "#\tplt.plot(count_of_clusters,unique_clusters,'bo')\n",
        "#\tplt.xscale('log')\n",
        "#\tplt.ylabel('Clustering coefficient')\n",
        "#\tplt.xlabel('Number of nodes')\n",
        "#\tplt.title('Distribution of clustering coefficients in '+instrument+ ' Txs. Blocks ' + block1 +' to '+ block2)\n",
        "#\tfor x,y in zip(count_of_clusters,unique_clusters):\n",
        "#\t\tlabel = \"{0:}\".format(x)\n",
        "#\t\tif x > 2:\t    \n",
        "#\t  \t\tplt.annotate(label, # this is the text\n",
        "#\t                 (x,y), # this is the point to label\n",
        "#\t                 textcoords=\"offset points\", # how to position the text\n",
        "#\t                 xytext=(0,10), # distance from text to points (x,y)\n",
        "#\t                 ha='center') # horizontal alignment can be left, right or center\n",
        "\tplt.savefig(outputfilepdfclus)\n",
        "\tplt.show()"
      ],
      "execution_count": 15,
      "outputs": []
    },
    {
      "cell_type": "code",
      "metadata": {
        "id": "v1dv3eEzUJMB"
      },
      "source": [
        "# right directory - not required as it was created already before\n",
        "cwd= os.getcwd()\n",
        "destdir = str(ts_now.year)+str(ts_now.month)+str(ts_now.day)+\"-outcome\" \n",
        "completeNamed = os.path.join(cwd, destdir)"
      ],
      "execution_count": 16,
      "outputs": []
    },
    {
      "cell_type": "code",
      "metadata": {
        "id": "5ein1aJIUuiW"
      },
      "source": [
        "# use either this code snippet or the next one but not both at the same time\n",
        "# start of the input part if we continue from the first code snippet\n",
        "dataset_file_name = outputfile22\n",
        "completeinputfiled = os.path.join(cwd, destdir)\n",
        "dataset_file_named = os.path.join(completeinputfiled, dataset_file_name)\n"
      ],
      "execution_count": 17,
      "outputs": []
    },
    {
      "cell_type": "code",
      "metadata": {
        "id": "yVZZYTBFUJz-",
        "colab": {
          "base_uri": "https://localhost:8080/"
        },
        "outputId": "f13da01f-d321-454e-b701-d8dccca4daa5"
      },
      "source": [
        "# start of the input part if we need to input the data again\n",
        "\n",
        "dataset_file_name = input('Name of the file containing the dataset: by default date-ETH-8000000-to-8000030 json-from-and-to.txt') or \"date-ETH-8000000-to-8000030 json-from-and-to.txt\"\n",
        "cryptotype = input('BTC or ETH? [by default ETH]:') or \"ETH\"\n",
        "first_block_number = input('Number of initial block? [by default 629000]:') or \"629000\"\n",
        "last_block_number = input('Number of last block file? [by default 629002]:') or \"629002\"\n",
        "\n",
        "completeinputfiled = os.path.join(cwd, destdir)\n",
        "dataset_file_named = os.path.join(completeinputfiled, dataset_file_name)\n",
        "\n",
        "\n"
      ],
      "execution_count": null,
      "outputs": [
        {
          "name": "stdout",
          "output_type": "stream",
          "text": [
            "Name of the file containing the dataset: by default date-ETH-8000000-to-8000030 json-from-and-to.txt20211226-ETH-800800-to-800801 json-from-and-to.txt\n",
            "BTC or ETH? [by default ETH]:ETH\n",
            "Number of initial block? [by default 629000]:800800\n",
            "Number of last block file? [by default 629002]:800801\n"
          ]
        }
      ]
    },
    {
      "cell_type": "code",
      "metadata": {
        "id": "kQDKZAuKI-mW",
        "colab": {
          "base_uri": "https://localhost:8080/"
        },
        "outputId": "d03da680-6c80-4159-dfa4-90126d356296"
      },
      "source": [
        "print(\"completeinputfiled\")\n",
        "print(completeinputfiled)\n",
        "#print(\"\\n\")\n",
        "print(\"dataset_file_name\")\n",
        "print(dataset_file_name)\n",
        "print(\"dataset_file_named\")\n",
        "print(dataset_file_named)\n",
        "print(\"completeNamed\")\n",
        "print(completeNamed)\n",
        "dataset_file_names = dataset_file_name[:-4]\n",
        "graph_file= dataset_file_names +\"-degree_distribution\"  \".png\"\n",
        "print(\"graph_file\")\n",
        "print(graph_file)\n",
        "\n",
        "\n"
      ],
      "execution_count": 18,
      "outputs": [
        {
          "output_type": "stream",
          "name": "stdout",
          "text": [
            "completeinputfiled\n",
            "/content/20211226-outcome\n",
            "dataset_file_name\n",
            "20211226-ETH-block-1000000-to-1000002-json-from-and-to.txt\n",
            "dataset_file_named\n",
            "/content/20211226-outcome/20211226-ETH-block-1000000-to-1000002-json-from-and-to.txt\n",
            "completeNamed\n",
            "/content/20211226-outcome\n",
            "graph_file\n",
            "20211226-ETH-block-1000000-to-1000002-json-from-and-to-degree_distribution.png\n"
          ]
        }
      ]
    },
    {
      "cell_type": "markdown",
      "metadata": {
        "id": "l8KQhqqh61_F"
      },
      "source": [
        "# code added 20211226 to run the networkx function using a file already present in gdrive (networkx file)\n",
        "# outputfilet3 - ending in networkx.txt"
      ]
    },
    {
      "cell_type": "code",
      "metadata": {
        "colab": {
          "base_uri": "https://localhost:8080/"
        },
        "id": "HSJ6-1zC-Sgq",
        "outputId": "ef27f9f0-c19a-4962-eeb4-66663e0fdcbb"
      },
      "source": [
        "from google.colab import drive\n",
        "drive.mount('/content/drive')"
      ],
      "execution_count": null,
      "outputs": [
        {
          "output_type": "stream",
          "name": "stdout",
          "text": [
            "Drive already mounted at /content/drive; to attempt to forcibly remount, call drive.mount(\"/content/drive\", force_remount=True).\n"
          ]
        }
      ]
    },
    {
      "cell_type": "code",
      "metadata": {
        "id": "4s-sku8i-c0E"
      },
      "source": [
        "import datetime as dt\n",
        "import os.path\n",
        "ts_now = dt.datetime.now()\n",
        "\n",
        "foldername = str(ts_now.year)+str(ts_now.month)+str(ts_now.day)+'ETH'\n",
        "\n",
        "if not os.path.exists('/content/gdrive/MyDrive/'+ foldername):\n",
        "  os.makedirs('/content/gdrive/MyDrive/'+ foldername)\n",
        "\n",
        "completeinputfiled = '/content/gdrive/MyDrive/'+ foldername"
      ],
      "execution_count": null,
      "outputs": []
    },
    {
      "cell_type": "code",
      "metadata": {
        "id": "8093P3aV61gs"
      },
      "source": [
        "import urllib\n",
        "\n",
        "import requests\n",
        "import json\n",
        "import datetime \n",
        "cwd= os.getcwd()\n",
        "destdir = str(ts_now.year)+str(ts_now.month)+str(ts_now.day)+ \"-outcome\" \n",
        "completeNamed = os.path.join(cwd, destdir)\n",
        "cryptotype = \"ETH\"\n",
        "\n",
        "#first_block_number = str(11531960)\n",
        "#last_block_number = str(11531970)\n",
        "\n",
        "#first_block_number = str(11531960)\n",
        "#last_block_number = str(11531970)\n",
        "\n",
        "\n",
        "outputfile22 = str(ts_now.year)+str(ts_now.month)+str(ts_now.day)+ \"-ETH-block-\"+first_block_number + \"-to-\" + last_block_number + \"-json\" + \"-from-and-to.txt\"\n",
        "dataset_file_name = outputfile22\n",
        "\n",
        "completeinputfiled = os.path.join(cwd, destdir)\n",
        "dataset_file_named = os.path.join(completeinputfiled, dataset_file_name)\n",
        "#dataset_file_named = '/20211226-outcome/20211226-ETH-block-800800-to-800801-json-from-and-to.txt'\n",
        "\n",
        "output_graph_info= str(ts_now.year)+str(ts_now.month)+str(ts_now.day)+\"-\"+cryptotype+\"-block-\" + first_block_number +\"-to-\"+ last_block_number + \"-output-graph-info.txt\"\n",
        "output_graph_infoc= os.path.join(completeinputfiled, output_graph_info)\n",
        "\n",
        "dataset_file_names = dataset_file_name[:-4]\n",
        "\n",
        "graph_file= dataset_file_names +\"-degree-distribution\" + \".png\"\n",
        "graph_filec= os.path.join(completeinputfiled, graph_file)\n",
        "\n",
        "graph_filelog= dataset_file_names + \"-log-log-degree-distribution\" + \".png\"\n",
        "graph_filelogc= os.path.join(completeinputfiled, graph_filelog)\n",
        "\n",
        "graph_fileclus= dataset_file_names +\"-clustering-coef-distribution\" + \".png\" \n",
        "graph_fileclusc= os.path.join(completeinputfiled, graph_fileclus)\n",
        "\n",
        "graph_filesubg= dataset_file_names +\"-subgraph-largest-connected-component\" + \".png\"\n",
        "graph_filesubgc= os.path.join(completeinputfiled, graph_filesubg)\n",
        "\n",
        "if not os.path.exists(destdir):\n",
        "\tos.mkdir(destdir)\n",
        "else:\n",
        "\tpass\n",
        "\n",
        "\n"
      ],
      "execution_count": 19,
      "outputs": []
    },
    {
      "cell_type": "code",
      "metadata": {
        "colab": {
          "base_uri": "https://localhost:8080/",
          "height": 1000
        },
        "id": "ywworQ5a9N58",
        "outputId": "0db59b1b-3524-4e4c-9c6c-f5cd642da1bc"
      },
      "source": [
        "#G = nx.read_edgelist(graph_file,comments='#', delimiter=' ')\n",
        "G = nx.read_edgelist(dataset_file_named,comments='#', delimiter=' ')\n",
        "G.name = cryptotype+\"-block-\" + first_block_number +\"-to-\"+ last_block_number+\"-Tx-network\"\n",
        "print(\"network info\")\n",
        "print(nx.info(G))\n",
        "print(\"number of nodes \")\n",
        "print(nx.number_of_nodes(G))\n",
        "print(\"number of edges \")\n",
        "print(nx.number_of_edges(G))\n",
        "print(\"is directed? \")\n",
        "print(nx.is_directed(G))\n",
        "print(\"degree per node \")\n",
        "print(nx.degree(G))\n",
        "degrees = G.degree()\n",
        "degree_values = [v for k, v in degrees]\n",
        "print(degree_values)\n",
        "unique_degree_values = list(set(degree_values))\n",
        "print(unique_degree_values)\n",
        "#nx.draw(G)\n",
        "#nx.draw_circular(G) #different layouts\n",
        "#plt.show()\n",
        "plot_deg_dist(G, graph_filec,graph_filelogc,graph_fileclusc, cryptotype, first_block_number, last_block_number)\n",
        "\n",
        "\n",
        "with open(output_graph_infoc, 'w') as outdatafile:\n",
        "\toutdatafile.write(\"Cryptotype: \"+ cryptotype)\n",
        "\toutdatafile.write(\"\\n\")\n",
        "\toutdatafile.write(\"Block numbers:\" + first_block_number +\"-\"+ last_block_number)\n",
        "\toutdatafile.write(\"\\n\")\n",
        "\toutdatafile.write(nx.info(G))\n",
        "\toutdatafile.write(\"\\n\")\n",
        "\toutdatafile.write(\"Average clustering:\")\n",
        "\toutdatafile.write (str(nx.average_clustering(G)))\n",
        "\toutdatafile.write(\"\\n\")\n",
        "\toutdatafile.write(\"Density:\")\n",
        "\toutdatafile.write (str(nx.density(G)))\n",
        "\toutdatafile.write(\"\\n\")\n",
        "\toutdatafile.write(\"Degree assortativity:\")\n",
        "\toutdatafile.write (str(nx.degree_assortativity_coefficient(G)))\n",
        "\toutdatafile.write(\"\\n\")\n",
        "\n",
        "\tmajor = sorted(G.degree, key=lambda x: x[1], reverse=True)\n",
        "#\tG2 = nx.ego_graph(G,major[0],radius=3, center=True, undirected=True, distance=None)\n",
        "\tprint(major)\n",
        "\tprint(major[0][0])\n",
        "\tG2 = nx.ego_graph(G,major[0][0],radius=5, center=True, undirected=True)\n",
        "\tfrom networkx.drawing.nx_agraph import graphviz_layout\n",
        "#\tnx.draw(G2, pos=graphviz_layout(G2))\n",
        "\tnx.draw(G2, node_size=40)\n",
        "\tplt.suptitle('Subgraph of largest connected component '+cryptotype+' -block-' + first_block_number +'-'+ last_block_number )\n",
        "\tplt.savefig(graph_filesubgc)\n",
        "\tplt.show()\n",
        "\n",
        "\n",
        "\n",
        "\tif nx.is_connected(G):\n",
        "\t\toutdatafile.write(\"Graph is connected\")\n",
        "\t\toutdatafile.write(\"Diameter:\")\n",
        "\t\toutdatafile.write (str(nx.diameter(G)))\n",
        "\t\toutdatafile.write(\"\\n\")\n",
        "\telse:\n",
        "\t\toutdatafile.write(\"Graph is not connected. Diameter calculation not possible\")\n",
        "\t\t#outdatafile.write(\"\\n\")\n",
        "\t\tcomponent=0\n",
        "\t\tfor g in connected_component_subgraphs(G): \n",
        "\t\t\tcomponent+=1\n",
        "\t\t\t#outdatafile.write(\"\\n\")\n",
        "\t\t\t#outdatafile.write(\"Shortest path length per component:\")\n",
        "\t\t\t#outdatafile.write(str(nx.average_shortest_path_length(g))) \n",
        "\t\t\t#outdatafile.write(\"\\n\")\n",
        "\t\t\t#outdatafile.write(\"Diameter per component:\")\n",
        "\t\t\t#outdatafile.write(str(nx.diameter(g))) \n",
        "\t\t\t#outdatafile.write(\"\\n\")\n",
        "\t\t\t##outdatafile.write(\"Eccentricity per component:\")\n",
        "\t\t\t##outdatafile.write(str(nx.eccentricity(g))) \n",
        "\t\t\t#outdatafile.write(\"\\n\")\n",
        "\t\toutdatafile.write(\"\\n\")\n",
        "\t\toutdatafile.write(\"Number of components in this network: \"+ str(component))"
      ],
      "execution_count": 20,
      "outputs": [
        {
          "output_type": "stream",
          "name": "stdout",
          "text": [
            "network info\n",
            "Graph named 'ETH-block-1000000-to-1000002-Tx-network' with 11 nodes and 6 edges\n",
            "number of nodes \n",
            "11\n",
            "number of edges \n",
            "6\n",
            "is directed? \n",
            "False\n",
            "degree per node \n",
            "[('0x39fa8c5f2793459d6622857e7d9fbb4bd91766d3', 1), ('0xc083e9947cf02b8ffc7d3090ae9aea72df98fd47', 1), ('0x32be343b94f860124dc4fee278fdcbd38c102d88', 1), ('0xdf190dc7190dfba737d7777a163445b7fff16133', 1), ('0x2a65aca4d5fc5b5c859090a6c34d164135398226', 2), ('0x819f4b08e6d3baa33ba63f660baed65d2a6eb64c', 1), ('0x2910543af39aba0cd09dbb2d50200b3e800a63d2', 1), ('0x9e486ad335492959c38a0740cb66c55ad30bb4f0', 1), ('0x10d5bff7879b7eb5192b3374338bb834981910a8', 1), ('0xc6c764fc6c1e1211d2b4a06ef2170f660a4512fa', 1), ('0x53e0551a1e31a40855bc8e086eb8db803a625bbf', 1)]\n",
            "[1, 1, 1, 1, 2, 1, 1, 1, 1, 1, 1]\n",
            "[1, 2]\n"
          ]
        },
        {
          "output_type": "display_data",
          "data": {
            "image/png": "[encoded data removed]",
            "text/plain": [
              "<Figure size 432x288 with 1 Axes>"
            ]
          },
          "metadata": {
            "needs_background": "light"
          }
        },
        {
          "output_type": "display_data",
          "data": {
            "image/png": "[encoded data removed]",
            "text/plain": [
              "<Figure size 432x288 with 1 Axes>"
            ]
          },
          "metadata": {
            "needs_background": "light"
          }
        },
        {
          "output_type": "display_data",
          "data": {
            "text/plain": [
              "<Figure size 432x288 with 0 Axes>"
            ]
          },
          "metadata": {}
        },
        {
          "output_type": "stream",
          "name": "stdout",
          "text": [
            "[('0x2a65aca4d5fc5b5c859090a6c34d164135398226', 2), ('0x39fa8c5f2793459d6622857e7d9fbb4bd91766d3', 1), ('0xc083e9947cf02b8ffc7d3090ae9aea72df98fd47', 1), ('0x32be343b94f860124dc4fee278fdcbd38c102d88', 1), ('0xdf190dc7190dfba737d7777a163445b7fff16133', 1), ('0x819f4b08e6d3baa33ba63f660baed65d2a6eb64c', 1), ('0x2910543af39aba0cd09dbb2d50200b3e800a63d2', 1), ('0x9e486ad335492959c38a0740cb66c55ad30bb4f0', 1), ('0x10d5bff7879b7eb5192b3374338bb834981910a8', 1), ('0xc6c764fc6c1e1211d2b4a06ef2170f660a4512fa', 1), ('0x53e0551a1e31a40855bc8e086eb8db803a625bbf', 1)]\n",
            "0x2a65aca4d5fc5b5c859090a6c34d164135398226\n"
          ]
        },
        {
          "output_type": "display_data",
          "data": {
            "image/png": "[encoded data removed]",
            "text/plain": [
              "<Figure size 432x288 with 1 Axes>"
            ]
          },
          "metadata": {}
        }
      ]
    },
    {
      "cell_type": "code",
      "metadata": {
        "colab": {
          "base_uri": "https://localhost:8080/"
        },
        "id": "EkUzZCjoQd5q",
        "outputId": "aef28f98-1f03-49c0-f80e-eb09b5960378"
      },
      "source": [
        "type(min(degrees))"
      ],
      "execution_count": null,
      "outputs": [
        {
          "output_type": "execute_result",
          "data": {
            "text/plain": [
              "tuple"
            ]
          },
          "metadata": {
            "tags": []
          },
          "execution_count": 10
        }
      ]
    },
    {
      "cell_type": "code",
      "metadata": {
        "colab": {
          "base_uri": "https://localhost:8080/"
        },
        "id": "kvmfdPpgQi5i",
        "outputId": "7eb946ca-d507-4c9d-a9f5-26fea9462aad"
      },
      "source": [
        "min = 9999\n",
        "max = 0\n",
        "my_array = []\n",
        "for value, degree in degrees:\n",
        "  if degree > max:\n",
        "    max = degree\n",
        "  if degree < min:\n",
        "    min = degree\n",
        "  for i in range(degree):\n",
        "    my_array.append(degree)\n",
        "\n",
        "print (min)\n",
        "print(max)"
      ],
      "execution_count": null,
      "outputs": [
        {
          "output_type": "stream",
          "text": [
            "1\n",
            "140\n"
          ],
          "name": "stdout"
        }
      ]
    },
    {
      "cell_type": "code",
      "metadata": {
        "colab": {
          "base_uri": "https://localhost:8080/",
          "height": 355
        },
        "id": "8YBZOPBQQsir",
        "outputId": "f211788a-7e38-4fc3-aa66-2f556f78e501"
      },
      "source": [
        "plt.hist(my_array)"
      ],
      "execution_count": null,
      "outputs": [
        {
          "output_type": "execute_result",
          "data": {
            "text/plain": [
              "(array([2268.,  157.,    0.,    0.,    0.,  161.,    0.,    0.,    0.,\n",
              "         140.]),\n",
              " array([  1. ,  14.9,  28.8,  42.7,  56.6,  70.5,  84.4,  98.3, 112.2,\n",
              "        126.1, 140. ]),\n",
              " <a list of 10 Patch objects>)"
            ]
          },
          "metadata": {
            "tags": []
          },
          "execution_count": 12
        },
        {
          "output_type": "display_data",
          "data": {
            "image/png": "[encoded data removed]",
            "text/plain": [
              "<Figure size 432x288 with 1 Axes>"
            ]
          },
          "metadata": {
            "tags": [],
            "needs_background": "light"
          }
        }
      ]
    },
    {
      "cell_type": "code",
      "metadata": {
        "colab": {
          "base_uri": "https://localhost:8080/"
        },
        "id": "0Y2nztcuQ5vw",
        "outputId": "ac165c61-9dc1-441b-e165-a1b0023aae25"
      },
      "source": [
        "pip install powerlaw"
      ],
      "execution_count": null,
      "outputs": [
        {
          "output_type": "stream",
          "text": [
            "Collecting powerlaw\n",
            "  Downloading https://files.pythonhosted.org/packages/d5/4e/3ceab890fafff8e78a5fd7f5340c232c38b21d181fcd32d7a31079db3646/powerlaw-1.4.6.tar.gz\n",
            "Requirement already satisfied: scipy in /usr/local/lib/python3.6/dist-packages (from powerlaw) (1.4.1)\n",
            "Requirement already satisfied: numpy in /usr/local/lib/python3.6/dist-packages (from powerlaw) (1.19.4)\n",
            "Requirement already satisfied: matplotlib in /usr/local/lib/python3.6/dist-packages (from powerlaw) (3.2.2)\n",
            "Requirement already satisfied: mpmath in /usr/local/lib/python3.6/dist-packages (from powerlaw) (1.1.0)\n",
            "Requirement already satisfied: pyparsing!=2.0.4,!=2.1.2,!=2.1.6,>=2.0.1 in /usr/local/lib/python3.6/dist-packages (from matplotlib->powerlaw) (2.4.7)\n",
            "Requirement already satisfied: python-dateutil>=2.1 in /usr/local/lib/python3.6/dist-packages (from matplotlib->powerlaw) (2.8.1)\n",
            "Requirement already satisfied: cycler>=0.10 in /usr/local/lib/python3.6/dist-packages (from matplotlib->powerlaw) (0.10.0)\n",
            "Requirement already satisfied: kiwisolver>=1.0.1 in /usr/local/lib/python3.6/dist-packages (from matplotlib->powerlaw) (1.3.1)\n",
            "Requirement already satisfied: six>=1.5 in /usr/local/lib/python3.6/dist-packages (from python-dateutil>=2.1->matplotlib->powerlaw) (1.15.0)\n",
            "Building wheels for collected packages: powerlaw\n",
            "  Building wheel for powerlaw (setup.py) ... \u001b[?25l\u001b[?25hdone\n",
            "  Created wheel for powerlaw: filename=powerlaw-1.4.6-cp36-none-any.whl size=24788 sha256=b6acc53999a25161b7976a74da2175257cb2b0ffe9c97b1565ed699b9a7632be\n",
            "  Stored in directory: /root/.cache/pip/wheels/e0/27/02/08d0e2865072bfd8d7c655e290521e3feca3fc22f1ac460601\n",
            "Successfully built powerlaw\n",
            "Installing collected packages: powerlaw\n",
            "Successfully installed powerlaw-1.4.6\n"
          ],
          "name": "stdout"
        }
      ]
    },
    {
      "cell_type": "code",
      "metadata": {
        "colab": {
          "base_uri": "https://localhost:8080/"
        },
        "id": "CjsngLQGQ0mW",
        "outputId": "462f23de-46f8-4be8-99cf-d48432940b4f"
      },
      "source": [
        "import powerlaw\n",
        "#data = [1.7, 3.2, 4.5, 6.2, 5.7] # data can be list or numpy array\n",
        "data = my_array\n",
        "results = powerlaw.Fit(data)\n",
        "print(\"results.power_law.alpha\")\n",
        "print(results.power_law.alpha)\n",
        "print(\"results.power_law.xmin\")\n",
        "print(results.power_law.xmin)\n",
        "R, p = results.distribution_compare('power_law', 'lognormal')"
      ],
      "execution_count": null,
      "outputs": [
        {
          "output_type": "stream",
          "text": [
            "Calculating best minimal value for power law fit\n",
            "/usr/local/lib/python3.6/dist-packages/powerlaw.py:700: RuntimeWarning: invalid value encountered in true_divide\n",
            "  (Theoretical_CDF * (1 - Theoretical_CDF))\n"
          ],
          "name": "stderr"
        },
        {
          "output_type": "stream",
          "text": [
            "results.power_law.alpha\n",
            "1.9081756873595728\n",
            "results.power_law.xmin\n",
            "1.0\n"
          ],
          "name": "stdout"
        },
        {
          "output_type": "stream",
          "text": [
            "/usr/local/lib/python3.6/dist-packages/powerlaw.py:1605: RuntimeWarning: invalid value encountered in true_divide\n",
            "  CDF = CDF/norm\n",
            "'nan' in fit cumulative distribution values.\n",
            "Likely underflow or overflow error: the optimal fit for this distribution gives values that are so extreme that we lack the numerical precision to calculate them.\n"
          ],
          "name": "stderr"
        }
      ]
    },
    {
      "cell_type": "code",
      "metadata": {
        "colab": {
          "base_uri": "https://localhost:8080/",
          "height": 283
        },
        "id": "Ry5-s2oN6_oX",
        "outputId": "80d09eac-4704-4e50-823f-737f359a2026"
      },
      "source": [
        "figCCDF = results.plot_pdf(color='b', linewidth=2, label='PDF')\n",
        "results.power_law.plot_pdf(color='b', linestyle='--', ax=figCCDF, label='Power law fit')\n",
        "results.plot_ccdf(color='r', linewidth=2, ax=figCCDF, label='CCDF' )\n",
        "results.power_law.plot_ccdf(color='r', linestyle='--', ax=figCCDF, label='Power law fit CCDF')\n",
        "####\n",
        "figCCDF.set_ylabel(u\"p(X),  p(X≥x)\")\n",
        "figCCDF.set_xlabel(r\"ETH network\")\n",
        "\n",
        "handles, labels = figCCDF.get_legend_handles_labels()\n",
        "#figCCDF.legend(handles, labels, loc='upper left', bbox_to_anchor=(1.05, 1))\n",
        "figCCDF.legend(handles, labels, loc='lower left', fontsize='small')\n",
        "\n",
        "fig = plt.gcf()\n",
        "\n",
        "#fig.savefig('fig1.pdf')\n",
        "fig.savefig('ETH-powerlaw.png')\n"
      ],
      "execution_count": null,
      "outputs": [
        {
          "output_type": "display_data",
          "data": {
            "image/png": "[encoded data removed]",
            "text/plain": [
              "<Figure size 432x288 with 1 Axes>"
            ]
          },
          "metadata": {
            "tags": [],
            "needs_background": "light"
          }
        }
      ]
    },
    {
      "cell_type": "code",
      "metadata": {
        "colab": {
          "base_uri": "https://localhost:8080/",
          "height": 35
        },
        "id": "Wmy6HPRIRagq",
        "outputId": "23dd6bce-b514-4ac2-dca1-8b980f98df46"
      },
      "source": [
        "\n",
        "figname = 'FigCCDF'"
      ],
      "execution_count": null,
      "outputs": [
        {
          "output_type": "display_data",
          "data": {
            "text/plain": [
              "<Figure size 432x288 with 0 Axes>"
            ]
          },
          "metadata": {
            "tags": []
          }
        }
      ]
    },
    {
      "cell_type": "code",
      "metadata": {
        "id": "aLmZzIQpk1R5",
        "colab": {
          "base_uri": "https://localhost:8080/",
          "height": 434
        },
        "outputId": "c4a6fd2c-707e-4136-8c6e-1aa9482d64f4"
      },
      "source": [
        "cryptotype = \"ETH\"\n",
        "\n",
        "output_graph_info= str(ts_now.year)+str(ts_now.month)+str(ts_now.day)+\"-\"+cryptotype+\"-block-\" + first_block_number +\"-to-\"+ last_block_number + \"-output-graph-info.txt\"\n",
        "output_graph_infoc= os.path.join(completeinputfiled, output_graph_info)\n",
        "\n",
        "dataset_file_names = dataset_file_name[:-4]\n",
        "\n",
        "graph_file= dataset_file_names +\"-degree-distribution\" + \".png\"\n",
        "graph_filec= os.path.join(completeinputfiled, graph_file)\n",
        "\n",
        "graph_filelog= dataset_file_names + \"-log-log-degree-distribution\" + \".png\"\n",
        "graph_filelogc= os.path.join(completeinputfiled, graph_filelog)\n",
        "\n",
        "graph_fileclus= dataset_file_names +\"-clustering-coef-distribution\" + \".png\" \n",
        "graph_fileclusc= os.path.join(completeinputfiled, graph_fileclus)\n",
        "\n",
        "graph_filesubg= dataset_file_names +\"-subgraph-largest-connected-component\" + \".png\"\n",
        "graph_filesubgc= os.path.join(completeinputfiled, graph_filesubg)\n",
        "\n",
        "\n",
        "\n",
        "if not os.path.exists(destdir):\n",
        "\tos.mkdir(destdir)\n",
        "else:\n",
        "\tpass\n",
        "\n",
        "G = nx.read_edgelist(dataset_file_named,comments='#', delimiter=' ')\n",
        "G.name = cryptotype+\"-block-\" + first_block_number +\"-to-\"+ last_block_number+\"-Tx-network\"\n",
        "print(\"network info\")\n",
        "print(nx.info(G))\n",
        "print(\"number of nodes \")\n",
        "print(nx.number_of_nodes(G))\n",
        "print(\"number of edges \")\n",
        "print(nx.number_of_edges(G))\n",
        "print(\"is directed? \")\n",
        "print(nx.is_directed(G))\n",
        "print(\"degree per node \")\n",
        "print(nx.degree(G))\n",
        "degrees = G.degree()\n",
        "degree_values = [v for k, v in degrees]\n",
        "print(degree_values)\n",
        "unique_degree_values = list(set(degree_values))\n",
        "print(unique_degree_values)\n",
        "#nx.draw(G)\n",
        "#nx.draw_circular(G) #different layouts\n",
        "#plt.show()\n",
        "plot_deg_dist(G, graph_filec,graph_filelogc,graph_fileclusc, cryptotype, first_block_number, last_block_number)\n",
        "\n",
        "\n",
        "with open(output_graph_infoc, 'w') as outdatafile:\n",
        "\toutdatafile.write(\"Cryptotype: \"+ cryptotype)\n",
        "\toutdatafile.write(\"\\n\")\n",
        "\toutdatafile.write(\"Block numbers:\" + first_block_number +\"-\"+ last_block_number)\n",
        "\toutdatafile.write(\"\\n\")\n",
        "\toutdatafile.write(nx.info(G))\n",
        "\toutdatafile.write(\"\\n\")\n",
        "\toutdatafile.write(\"Average clustering:\")\n",
        "\toutdatafile.write (str(nx.average_clustering(G)))\n",
        "\toutdatafile.write(\"\\n\")\n",
        "\toutdatafile.write(\"Density:\")\n",
        "\toutdatafile.write (str(nx.density(G)))\n",
        "\toutdatafile.write(\"\\n\")\n",
        "\toutdatafile.write(\"Degree assortativity:\")\n",
        "\toutdatafile.write (str(nx.degree_assortativity_coefficient(G)))\n",
        "\toutdatafile.write(\"\\n\")\n",
        "\n",
        "\tmajor = sorted(G.degree, key=lambda x: x[1], reverse=True)\n",
        "#\tG2 = nx.ego_graph(G,major[0],radius=3, center=True, undirected=True, distance=None)\n",
        "\tprint(major)\n",
        "\tprint(major[0][0])\n",
        "\tG2 = nx.ego_graph(G,major[0][0],radius=5, center=True, undirected=True)\n",
        "\tfrom networkx.drawing.nx_agraph import graphviz_layout\n",
        "#\tnx.draw(G2, pos=graphviz_layout(G2))\n",
        "\tnx.draw(G2, node_size=40)\n",
        "\tplt.suptitle('Subgraph of largest connected component '+cryptotype+' -block-' + first_block_number +'-'+ last_block_number )\n",
        "\tplt.savefig(graph_filesubgc)\n",
        "\tplt.show()\n",
        "\n",
        "\n",
        "\n",
        "\tif nx.is_connected(G):\n",
        "\t\toutdatafile.write(\"Graph is connected\")\n",
        "\t\toutdatafile.write(\"Diameter:\")\n",
        "\t\toutdatafile.write (str(nx.diameter(G)))\n",
        "\t\toutdatafile.write(\"\\n\")\n",
        "\telse:\n",
        "\t\toutdatafile.write(\"Graph is not connected. Diameter calculation not possible\")\n",
        "\t\t#outdatafile.write(\"\\n\")\n",
        "\t\tcomponent=0\n",
        "\t\tfor g in connected_component_subgraphs(G): \n",
        "\t\t\tcomponent+=1\n",
        "\t\t\t#outdatafile.write(\"\\n\")\n",
        "\t\t\t#outdatafile.write(\"Shortest path length per component:\")\n",
        "\t\t\t#outdatafile.write(str(nx.average_shortest_path_length(g))) \n",
        "\t\t\t#outdatafile.write(\"\\n\")\n",
        "\t\t\t#outdatafile.write(\"Diameter per component:\")\n",
        "\t\t\t#outdatafile.write(str(nx.diameter(g))) \n",
        "\t\t\t#outdatafile.write(\"\\n\")\n",
        "\t\t\t##outdatafile.write(\"Eccentricity per component:\")\n",
        "\t\t\t##outdatafile.write(str(nx.eccentricity(g))) \n",
        "\t\t\t#outdatafile.write(\"\\n\")\n",
        "\t\toutdatafile.write(\"\\n\")\n",
        "\t\toutdatafile.write(\"Number of components in this network: \"+ str(component))"
      ],
      "execution_count": null,
      "outputs": [
        {
          "output_type": "error",
          "ename": "FileNotFoundError",
          "evalue": "ignored",
          "traceback": [
            "\u001b[0;31m---------------------------------------------------------------------------\u001b[0m",
            "\u001b[0;31mFileNotFoundError\u001b[0m                         Traceback (most recent call last)",
            "\u001b[0;32m<ipython-input-46-4fc0866066d9>\u001b[0m in \u001b[0;36m<module>\u001b[0;34m()\u001b[0m\n\u001b[1;32m     25\u001b[0m         \u001b[0;32mpass\u001b[0m\u001b[0;34m\u001b[0m\u001b[0;34m\u001b[0m\u001b[0m\n\u001b[1;32m     26\u001b[0m \u001b[0;34m\u001b[0m\u001b[0m\n\u001b[0;32m---> 27\u001b[0;31m \u001b[0mG\u001b[0m \u001b[0;34m=\u001b[0m \u001b[0mnx\u001b[0m\u001b[0;34m.\u001b[0m\u001b[0mread_edgelist\u001b[0m\u001b[0;34m(\u001b[0m\u001b[0mdataset_file_named\u001b[0m\u001b[0;34m,\u001b[0m\u001b[0mcomments\u001b[0m\u001b[0;34m=\u001b[0m\u001b[0;34m'#'\u001b[0m\u001b[0;34m,\u001b[0m \u001b[0mdelimiter\u001b[0m\u001b[0;34m=\u001b[0m\u001b[0;34m' '\u001b[0m\u001b[0;34m)\u001b[0m\u001b[0;34m\u001b[0m\u001b[0;34m\u001b[0m\u001b[0m\n\u001b[0m\u001b[1;32m     28\u001b[0m \u001b[0mG\u001b[0m\u001b[0;34m.\u001b[0m\u001b[0mname\u001b[0m \u001b[0;34m=\u001b[0m \u001b[0mcryptotype\u001b[0m\u001b[0;34m+\u001b[0m\u001b[0;34m\"-block-\"\u001b[0m \u001b[0;34m+\u001b[0m \u001b[0mfirst_block_number\u001b[0m \u001b[0;34m+\u001b[0m\u001b[0;34m\"-to-\"\u001b[0m\u001b[0;34m+\u001b[0m \u001b[0mlast_block_number\u001b[0m\u001b[0;34m+\u001b[0m\u001b[0;34m\"-Tx-network\"\u001b[0m\u001b[0;34m\u001b[0m\u001b[0;34m\u001b[0m\u001b[0m\n\u001b[1;32m     29\u001b[0m \u001b[0mprint\u001b[0m\u001b[0;34m(\u001b[0m\u001b[0;34m\"network info\"\u001b[0m\u001b[0;34m)\u001b[0m\u001b[0;34m\u001b[0m\u001b[0;34m\u001b[0m\u001b[0m\n",
            "\u001b[0;32m/usr/local/lib/python3.7/dist-packages/networkx/utils/decorators.py\u001b[0m in \u001b[0;36margmap_read_edgelist_1\u001b[0;34m(path, comments, delimiter, create_using, nodetype, data, edgetype, encoding)\u001b[0m\n\u001b[1;32m      1\u001b[0m \u001b[0;32mfrom\u001b[0m \u001b[0mcollections\u001b[0m \u001b[0;32mimport\u001b[0m \u001b[0mdefaultdict\u001b[0m\u001b[0;34m\u001b[0m\u001b[0;34m\u001b[0m\u001b[0m\n\u001b[1;32m      2\u001b[0m \u001b[0;32mfrom\u001b[0m \u001b[0mos\u001b[0m\u001b[0;34m.\u001b[0m\u001b[0mpath\u001b[0m \u001b[0;32mimport\u001b[0m \u001b[0msplitext\u001b[0m\u001b[0;34m\u001b[0m\u001b[0;34m\u001b[0m\u001b[0m\n\u001b[0;32m----> 3\u001b[0;31m \u001b[0;32mfrom\u001b[0m \u001b[0mcontextlib\u001b[0m \u001b[0;32mimport\u001b[0m \u001b[0mcontextmanager\u001b[0m\u001b[0;34m\u001b[0m\u001b[0;34m\u001b[0m\u001b[0m\n\u001b[0m\u001b[1;32m      4\u001b[0m \u001b[0;32mfrom\u001b[0m \u001b[0mpathlib\u001b[0m \u001b[0;32mimport\u001b[0m \u001b[0mPath\u001b[0m\u001b[0;34m\u001b[0m\u001b[0;34m\u001b[0m\u001b[0m\n\u001b[1;32m      5\u001b[0m \u001b[0;32mimport\u001b[0m \u001b[0mwarnings\u001b[0m\u001b[0;34m\u001b[0m\u001b[0;34m\u001b[0m\u001b[0m\n",
            "\u001b[0;32m/usr/local/lib/python3.7/dist-packages/networkx/utils/decorators.py\u001b[0m in \u001b[0;36m_open_file\u001b[0;34m(path)\u001b[0m\n\u001b[1;32m    186\u001b[0m             \u001b[0;32mreturn\u001b[0m \u001b[0mpath\u001b[0m\u001b[0;34m,\u001b[0m \u001b[0;32mlambda\u001b[0m\u001b[0;34m:\u001b[0m \u001b[0;32mNone\u001b[0m\u001b[0;34m\u001b[0m\u001b[0;34m\u001b[0m\u001b[0m\n\u001b[1;32m    187\u001b[0m \u001b[0;34m\u001b[0m\u001b[0m\n\u001b[0;32m--> 188\u001b[0;31m         \u001b[0mfobj\u001b[0m \u001b[0;34m=\u001b[0m \u001b[0m_dispatch_dict\u001b[0m\u001b[0;34m[\u001b[0m\u001b[0mext\u001b[0m\u001b[0;34m]\u001b[0m\u001b[0;34m(\u001b[0m\u001b[0mpath\u001b[0m\u001b[0;34m,\u001b[0m \u001b[0mmode\u001b[0m\u001b[0;34m=\u001b[0m\u001b[0mmode\u001b[0m\u001b[0;34m)\u001b[0m\u001b[0;34m\u001b[0m\u001b[0;34m\u001b[0m\u001b[0m\n\u001b[0m\u001b[1;32m    189\u001b[0m         \u001b[0;32mreturn\u001b[0m \u001b[0mfobj\u001b[0m\u001b[0;34m,\u001b[0m \u001b[0;32mlambda\u001b[0m\u001b[0;34m:\u001b[0m \u001b[0mfobj\u001b[0m\u001b[0;34m.\u001b[0m\u001b[0mclose\u001b[0m\u001b[0;34m(\u001b[0m\u001b[0;34m)\u001b[0m\u001b[0;34m\u001b[0m\u001b[0;34m\u001b[0m\u001b[0m\n\u001b[1;32m    190\u001b[0m \u001b[0;34m\u001b[0m\u001b[0m\n",
            "\u001b[0;31mFileNotFoundError\u001b[0m: [Errno 2] No such file or directory: '/content/20211226-outcome/20211226-ETH-block-11531960-to-11531970-json-from-and-to.txt'"
          ]
        }
      ]
    },
    {
      "cell_type": "code",
      "metadata": {
        "id": "1MbOtiiaPAyf"
      },
      "source": [
        "# functionality code just to speed up the deletion of files in the virtual execution machine in colab\n",
        "# please use with care\n",
        "import shutil\n",
        "shutil.rmtree(completeNamed)"
      ],
      "execution_count": null,
      "outputs": []
    },
    {
      "cell_type": "code",
      "metadata": {
        "id": "YG5ybWM-XnGq",
        "colab": {
          "base_uri": "https://localhost:8080/",
          "height": 448
        },
        "outputId": "a979d794-077d-436f-e5b0-b08dcdc14ac0"
      },
      "source": [
        "# practical way to download all created files\n",
        "# careful this way does not work \n",
        "import shutil\n",
        "from google.colab import files\n",
        "\n",
        "zipname = str(ts_now.year)+str(ts_now.month)+str(ts_now.day)+\"ETH-txs\"\n",
        "zipnamec = completeNamed + \"/\" +zipname \n",
        "\n",
        "print (zipname)\n",
        "print (zipnamec)\n",
        "print (completeNamed)\n",
        "\n",
        "shutil.make_archive(zipnamec, 'zip', completeNamed)\n",
        "\n",
        "zipnamefull = zipnamec + \".zip\"\n",
        "\n",
        "print(zipnamefull)\n",
        "\n",
        "files.download(zipnamefull)\n"
      ],
      "execution_count": null,
      "outputs": [
        {
          "output_type": "stream",
          "text": [
            "20201226ETH-txs\n",
            "/content/20201226-outcome/20201226ETH-txs\n",
            "/content/20201226-outcome\n"
          ],
          "name": "stdout"
        },
        {
          "output_type": "error",
          "ename": "KeyboardInterrupt",
          "evalue": "ignored",
          "traceback": [
            "\u001b[0;31m---------------------------------------------------------------------------\u001b[0m",
            "\u001b[0;31mKeyboardInterrupt\u001b[0m                         Traceback (most recent call last)",
            "\u001b[0;32m<ipython-input-22-10c811814509>\u001b[0m in \u001b[0;36m<module>\u001b[0;34m()\u001b[0m\n\u001b[1;32m     11\u001b[0m \u001b[0mprint\u001b[0m \u001b[0;34m(\u001b[0m\u001b[0mcompleteNamed\u001b[0m\u001b[0;34m)\u001b[0m\u001b[0;34m\u001b[0m\u001b[0;34m\u001b[0m\u001b[0m\n\u001b[1;32m     12\u001b[0m \u001b[0;34m\u001b[0m\u001b[0m\n\u001b[0;32m---> 13\u001b[0;31m \u001b[0mshutil\u001b[0m\u001b[0;34m.\u001b[0m\u001b[0mmake_archive\u001b[0m\u001b[0;34m(\u001b[0m\u001b[0mzipnamec\u001b[0m\u001b[0;34m,\u001b[0m \u001b[0;34m'zip'\u001b[0m\u001b[0;34m,\u001b[0m \u001b[0mcompleteNamed\u001b[0m\u001b[0;34m)\u001b[0m\u001b[0;34m\u001b[0m\u001b[0;34m\u001b[0m\u001b[0m\n\u001b[0m\u001b[1;32m     14\u001b[0m \u001b[0;34m\u001b[0m\u001b[0m\n\u001b[1;32m     15\u001b[0m \u001b[0mzipnamefull\u001b[0m \u001b[0;34m=\u001b[0m \u001b[0mzipnamec\u001b[0m \u001b[0;34m+\u001b[0m \u001b[0;34m\".zip\"\u001b[0m\u001b[0;34m\u001b[0m\u001b[0;34m\u001b[0m\u001b[0m\n",
            "\u001b[0;32m/usr/lib/python3.6/shutil.py\u001b[0m in \u001b[0;36mmake_archive\u001b[0;34m(base_name, format, root_dir, base_dir, verbose, dry_run, owner, group, logger)\u001b[0m\n\u001b[1;32m    804\u001b[0m \u001b[0;34m\u001b[0m\u001b[0m\n\u001b[1;32m    805\u001b[0m     \u001b[0;32mtry\u001b[0m\u001b[0;34m:\u001b[0m\u001b[0;34m\u001b[0m\u001b[0;34m\u001b[0m\u001b[0m\n\u001b[0;32m--> 806\u001b[0;31m         \u001b[0mfilename\u001b[0m \u001b[0;34m=\u001b[0m \u001b[0mfunc\u001b[0m\u001b[0;34m(\u001b[0m\u001b[0mbase_name\u001b[0m\u001b[0;34m,\u001b[0m \u001b[0mbase_dir\u001b[0m\u001b[0;34m,\u001b[0m \u001b[0;34m**\u001b[0m\u001b[0mkwargs\u001b[0m\u001b[0;34m)\u001b[0m\u001b[0;34m\u001b[0m\u001b[0;34m\u001b[0m\u001b[0m\n\u001b[0m\u001b[1;32m    807\u001b[0m     \u001b[0;32mfinally\u001b[0m\u001b[0;34m:\u001b[0m\u001b[0;34m\u001b[0m\u001b[0;34m\u001b[0m\u001b[0m\n\u001b[1;32m    808\u001b[0m         \u001b[0;32mif\u001b[0m \u001b[0mroot_dir\u001b[0m \u001b[0;32mis\u001b[0m \u001b[0;32mnot\u001b[0m \u001b[0;32mNone\u001b[0m\u001b[0;34m:\u001b[0m\u001b[0;34m\u001b[0m\u001b[0;34m\u001b[0m\u001b[0m\n",
            "\u001b[0;32m/usr/lib/python3.6/shutil.py\u001b[0m in \u001b[0;36m_make_zipfile\u001b[0;34m(base_name, base_dir, verbose, dry_run, logger)\u001b[0m\n\u001b[1;32m    702\u001b[0m                     \u001b[0mpath\u001b[0m \u001b[0;34m=\u001b[0m \u001b[0mos\u001b[0m\u001b[0;34m.\u001b[0m\u001b[0mpath\u001b[0m\u001b[0;34m.\u001b[0m\u001b[0mnormpath\u001b[0m\u001b[0;34m(\u001b[0m\u001b[0mos\u001b[0m\u001b[0;34m.\u001b[0m\u001b[0mpath\u001b[0m\u001b[0;34m.\u001b[0m\u001b[0mjoin\u001b[0m\u001b[0;34m(\u001b[0m\u001b[0mdirpath\u001b[0m\u001b[0;34m,\u001b[0m \u001b[0mname\u001b[0m\u001b[0;34m)\u001b[0m\u001b[0;34m)\u001b[0m\u001b[0;34m\u001b[0m\u001b[0;34m\u001b[0m\u001b[0m\n\u001b[1;32m    703\u001b[0m                     \u001b[0;32mif\u001b[0m \u001b[0mos\u001b[0m\u001b[0;34m.\u001b[0m\u001b[0mpath\u001b[0m\u001b[0;34m.\u001b[0m\u001b[0misfile\u001b[0m\u001b[0;34m(\u001b[0m\u001b[0mpath\u001b[0m\u001b[0;34m)\u001b[0m\u001b[0;34m:\u001b[0m\u001b[0;34m\u001b[0m\u001b[0;34m\u001b[0m\u001b[0m\n\u001b[0;32m--> 704\u001b[0;31m                         \u001b[0mzf\u001b[0m\u001b[0;34m.\u001b[0m\u001b[0mwrite\u001b[0m\u001b[0;34m(\u001b[0m\u001b[0mpath\u001b[0m\u001b[0;34m,\u001b[0m \u001b[0mpath\u001b[0m\u001b[0;34m)\u001b[0m\u001b[0;34m\u001b[0m\u001b[0;34m\u001b[0m\u001b[0m\n\u001b[0m\u001b[1;32m    705\u001b[0m                         \u001b[0;32mif\u001b[0m \u001b[0mlogger\u001b[0m \u001b[0;32mis\u001b[0m \u001b[0;32mnot\u001b[0m \u001b[0;32mNone\u001b[0m\u001b[0;34m:\u001b[0m\u001b[0;34m\u001b[0m\u001b[0;34m\u001b[0m\u001b[0m\n\u001b[1;32m    706\u001b[0m                             \u001b[0mlogger\u001b[0m\u001b[0;34m.\u001b[0m\u001b[0minfo\u001b[0m\u001b[0;34m(\u001b[0m\u001b[0;34m\"adding '%s'\"\u001b[0m\u001b[0;34m,\u001b[0m \u001b[0mpath\u001b[0m\u001b[0;34m)\u001b[0m\u001b[0;34m\u001b[0m\u001b[0;34m\u001b[0m\u001b[0m\n",
            "\u001b[0;32m/usr/lib/python3.6/zipfile.py\u001b[0m in \u001b[0;36mwrite\u001b[0;34m(self, filename, arcname, compress_type)\u001b[0m\n\u001b[1;32m   1644\u001b[0m         \u001b[0;32melse\u001b[0m\u001b[0;34m:\u001b[0m\u001b[0;34m\u001b[0m\u001b[0;34m\u001b[0m\u001b[0m\n\u001b[1;32m   1645\u001b[0m             \u001b[0;32mwith\u001b[0m \u001b[0mopen\u001b[0m\u001b[0;34m(\u001b[0m\u001b[0mfilename\u001b[0m\u001b[0;34m,\u001b[0m \u001b[0;34m\"rb\"\u001b[0m\u001b[0;34m)\u001b[0m \u001b[0;32mas\u001b[0m \u001b[0msrc\u001b[0m\u001b[0;34m,\u001b[0m \u001b[0mself\u001b[0m\u001b[0;34m.\u001b[0m\u001b[0mopen\u001b[0m\u001b[0;34m(\u001b[0m\u001b[0mzinfo\u001b[0m\u001b[0;34m,\u001b[0m \u001b[0;34m'w'\u001b[0m\u001b[0;34m)\u001b[0m \u001b[0;32mas\u001b[0m \u001b[0mdest\u001b[0m\u001b[0;34m:\u001b[0m\u001b[0;34m\u001b[0m\u001b[0;34m\u001b[0m\u001b[0m\n\u001b[0;32m-> 1646\u001b[0;31m                 \u001b[0mshutil\u001b[0m\u001b[0;34m.\u001b[0m\u001b[0mcopyfileobj\u001b[0m\u001b[0;34m(\u001b[0m\u001b[0msrc\u001b[0m\u001b[0;34m,\u001b[0m \u001b[0mdest\u001b[0m\u001b[0;34m,\u001b[0m \u001b[0;36m1024\u001b[0m\u001b[0;34m*\u001b[0m\u001b[0;36m8\u001b[0m\u001b[0;34m)\u001b[0m\u001b[0;34m\u001b[0m\u001b[0;34m\u001b[0m\u001b[0m\n\u001b[0m\u001b[1;32m   1647\u001b[0m \u001b[0;34m\u001b[0m\u001b[0m\n\u001b[1;32m   1648\u001b[0m     \u001b[0;32mdef\u001b[0m \u001b[0mwritestr\u001b[0m\u001b[0;34m(\u001b[0m\u001b[0mself\u001b[0m\u001b[0;34m,\u001b[0m \u001b[0mzinfo_or_arcname\u001b[0m\u001b[0;34m,\u001b[0m \u001b[0mdata\u001b[0m\u001b[0;34m,\u001b[0m \u001b[0mcompress_type\u001b[0m\u001b[0;34m=\u001b[0m\u001b[0;32mNone\u001b[0m\u001b[0;34m)\u001b[0m\u001b[0;34m:\u001b[0m\u001b[0;34m\u001b[0m\u001b[0;34m\u001b[0m\u001b[0m\n",
            "\u001b[0;32m/usr/lib/python3.6/shutil.py\u001b[0m in \u001b[0;36mcopyfileobj\u001b[0;34m(fsrc, fdst, length)\u001b[0m\n\u001b[1;32m     80\u001b[0m         \u001b[0;32mif\u001b[0m \u001b[0;32mnot\u001b[0m \u001b[0mbuf\u001b[0m\u001b[0;34m:\u001b[0m\u001b[0;34m\u001b[0m\u001b[0;34m\u001b[0m\u001b[0m\n\u001b[1;32m     81\u001b[0m             \u001b[0;32mbreak\u001b[0m\u001b[0;34m\u001b[0m\u001b[0;34m\u001b[0m\u001b[0m\n\u001b[0;32m---> 82\u001b[0;31m         \u001b[0mfdst\u001b[0m\u001b[0;34m.\u001b[0m\u001b[0mwrite\u001b[0m\u001b[0;34m(\u001b[0m\u001b[0mbuf\u001b[0m\u001b[0;34m)\u001b[0m\u001b[0;34m\u001b[0m\u001b[0;34m\u001b[0m\u001b[0m\n\u001b[0m\u001b[1;32m     83\u001b[0m \u001b[0;34m\u001b[0m\u001b[0m\n\u001b[1;32m     84\u001b[0m \u001b[0;32mdef\u001b[0m \u001b[0m_samefile\u001b[0m\u001b[0;34m(\u001b[0m\u001b[0msrc\u001b[0m\u001b[0;34m,\u001b[0m \u001b[0mdst\u001b[0m\u001b[0;34m)\u001b[0m\u001b[0;34m:\u001b[0m\u001b[0;34m\u001b[0m\u001b[0;34m\u001b[0m\u001b[0m\n",
            "\u001b[0;32m/usr/lib/python3.6/zipfile.py\u001b[0m in \u001b[0;36mwrite\u001b[0;34m(self, data)\u001b[0m\n\u001b[1;32m   1011\u001b[0m         \u001b[0mself\u001b[0m\u001b[0;34m.\u001b[0m\u001b[0m_crc\u001b[0m \u001b[0;34m=\u001b[0m \u001b[0mcrc32\u001b[0m\u001b[0;34m(\u001b[0m\u001b[0mdata\u001b[0m\u001b[0;34m,\u001b[0m \u001b[0mself\u001b[0m\u001b[0;34m.\u001b[0m\u001b[0m_crc\u001b[0m\u001b[0;34m)\u001b[0m\u001b[0;34m\u001b[0m\u001b[0;34m\u001b[0m\u001b[0m\n\u001b[1;32m   1012\u001b[0m         \u001b[0;32mif\u001b[0m \u001b[0mself\u001b[0m\u001b[0;34m.\u001b[0m\u001b[0m_compressor\u001b[0m\u001b[0;34m:\u001b[0m\u001b[0;34m\u001b[0m\u001b[0;34m\u001b[0m\u001b[0m\n\u001b[0;32m-> 1013\u001b[0;31m             \u001b[0mdata\u001b[0m \u001b[0;34m=\u001b[0m \u001b[0mself\u001b[0m\u001b[0;34m.\u001b[0m\u001b[0m_compressor\u001b[0m\u001b[0;34m.\u001b[0m\u001b[0mcompress\u001b[0m\u001b[0;34m(\u001b[0m\u001b[0mdata\u001b[0m\u001b[0;34m)\u001b[0m\u001b[0;34m\u001b[0m\u001b[0;34m\u001b[0m\u001b[0m\n\u001b[0m\u001b[1;32m   1014\u001b[0m             \u001b[0mself\u001b[0m\u001b[0;34m.\u001b[0m\u001b[0m_compress_size\u001b[0m \u001b[0;34m+=\u001b[0m \u001b[0mlen\u001b[0m\u001b[0;34m(\u001b[0m\u001b[0mdata\u001b[0m\u001b[0;34m)\u001b[0m\u001b[0;34m\u001b[0m\u001b[0;34m\u001b[0m\u001b[0m\n\u001b[1;32m   1015\u001b[0m         \u001b[0mself\u001b[0m\u001b[0;34m.\u001b[0m\u001b[0m_fileobj\u001b[0m\u001b[0;34m.\u001b[0m\u001b[0mwrite\u001b[0m\u001b[0;34m(\u001b[0m\u001b[0mdata\u001b[0m\u001b[0;34m)\u001b[0m\u001b[0;34m\u001b[0m\u001b[0;34m\u001b[0m\u001b[0m\n",
            "\u001b[0;31mKeyboardInterrupt\u001b[0m: "
          ]
        }
      ]
    },
    {
      "cell_type": "markdown",
      "metadata": {
        "id": "SaPJpLizbRI_"
      },
      "source": [
        "!zip -r zipnamec completeNamed"
      ]
    },
    {
      "cell_type": "code",
      "metadata": {
        "id": "YwDefBb2ZYMC",
        "colab": {
          "base_uri": "https://localhost:8080/"
        },
        "outputId": "ff67cc1a-8fcf-4cf4-8e54-793f8aa126d9"
      },
      "source": [
        "!zip -r 20201226-1ETH-txs.zip /content/20201226-outcome\n"
      ],
      "execution_count": null,
      "outputs": [
        {
          "output_type": "stream",
          "text": [
            "  adding: content/20201226-outcome/ (stored 0%)\n",
            "  adding: content/20201226-outcome/20201226-ETH-block-11531960-to-11531970-json-from-and-to.txt (deflated 63%)\n",
            "  adding: content/20201226-outcome/20201226-ETH-block-11531960-to-11531970-json-from-and-to-clustering-coef-distribution.png (deflated 13%)\n",
            "  adding: content/20201226-outcome/20201226-ETH-block-11531960-to-11531970-json-from-and-to-subgraph-largest-connected-component.png (deflated 4%)\n",
            "  adding: content/20201226-outcome/20201226-ETH-block-11531960-to-11531970-json-from-and-to-log-log-degree-distribution.png (deflated 6%)\n",
            "  adding: content/20201226-outcome/20201226-ETH-block-11531900-to-11531970-json-from-and-to-log-log-degree-distribution.png (deflated 4%)\n",
            "  adding: content/20201226-outcome/20201226-ETH-block-11531960-to-11531970-output-graph-info.txt (deflated 34%)\n",
            "  adding: content/20201226-outcome/20201226-ETH-block-11531900-to-11531970-json-from-and-to-subgraph-largest-connected-component.png (deflated 1%)\n",
            "  adding: content/20201226-outcome/20201226-ETH-json-block.txt (deflated 44%)\n",
            "  adding: content/20201226-outcome/20201226-ETH-block-11531900-to-11531970-blockchain-info-time.txt (deflated 89%)\n",
            "  adding: content/20201226-outcome/20201226-ETH-block-11531900-to-11531970-json-from-and-to-clustering-coef-distribution.png (deflated 10%)\n",
            "  adding: content/20201226-outcome/20201226-ETH-block-11531900-to-11531970-output-graph-info.txt (deflated 34%)\n",
            "  adding: content/20201226-outcome/20201226-ETH-block-11531900-to-11531970-infura-transactions.txt (deflated 43%)\n",
            "  adding: content/20201226-outcome/.ipynb_checkpoints/ (stored 0%)\n",
            "  adding: content/20201226-outcome/20201226-ETH-block-11531900-to-11531970-json-from-and-to.txt (deflated 63%)\n",
            "  adding: content/20201226-outcome/20201226-ETH-block-11531900-to-11531970-json-from-and-to-degree-distribution.png (deflated 12%)\n",
            "  adding: content/20201226-outcome/20201226-ETH-block-11531960-to-11531970-json-from-and-to-degree-distribution.png (deflated 11%)\n",
            "  adding: content/20201226-outcome/20201226-ETH-block-11531960-to-11531970-infura-transactions.txt (deflated 43%)\n",
            "  adding: content/20201226-outcome/20201226-ETH-block-11531960-to-11531970-blockchain-info-time.txt (deflated 81%)\n",
            "  adding: content/20201226-outcome/20201226-ETH-json-transaction.txt (deflated 39%)\n"
          ],
          "name": "stdout"
        }
      ]
    },
    {
      "cell_type": "code",
      "metadata": {
        "id": "5nOC2gdQZZwT",
        "colab": {
          "base_uri": "https://localhost:8080/",
          "height": 17
        },
        "outputId": "7f847d4b-fa1d-43fd-b3b1-63ae8bbc5b33"
      },
      "source": [
        "from google.colab import files\n",
        "files.download('20201226-1ETH-txs.zip')"
      ],
      "execution_count": null,
      "outputs": [
        {
          "output_type": "display_data",
          "data": {
            "application/javascript": [
              "\n",
              "    async function download(id, filename, size) {\n",
              "      if (!google.colab.kernel.accessAllowed) {\n",
              "        return;\n",
              "      }\n",
              "      const div = document.createElement('div');\n",
              "      const label = document.createElement('label');\n",
              "      label.textContent = `Downloading \"${filename}\": `;\n",
              "      div.appendChild(label);\n",
              "      const progress = document.createElement('progress');\n",
              "      progress.max = size;\n",
              "      div.appendChild(progress);\n",
              "      document.body.appendChild(div);\n",
              "\n",
              "      const buffers = [];\n",
              "      let downloaded = 0;\n",
              "\n",
              "      const channel = await google.colab.kernel.comms.open(id);\n",
              "      // Send a message to notify the kernel that we're ready.\n",
              "      channel.send({})\n",
              "\n",
              "      for await (const message of channel.messages) {\n",
              "        // Send a message to notify the kernel that we're ready.\n",
              "        channel.send({})\n",
              "        if (message.buffers) {\n",
              "          for (const buffer of message.buffers) {\n",
              "            buffers.push(buffer);\n",
              "            downloaded += buffer.byteLength;\n",
              "            progress.value = downloaded;\n",
              "          }\n",
              "        }\n",
              "      }\n",
              "      const blob = new Blob(buffers, {type: 'application/binary'});\n",
              "      const a = document.createElement('a');\n",
              "      a.href = window.URL.createObjectURL(blob);\n",
              "      a.download = filename;\n",
              "      div.appendChild(a);\n",
              "      a.click();\n",
              "      div.remove();\n",
              "    }\n",
              "  "
            ],
            "text/plain": [
              "<IPython.core.display.Javascript object>"
            ]
          },
          "metadata": {
            "tags": []
          }
        },
        {
          "output_type": "display_data",
          "data": {
            "application/javascript": [
              "download(\"download_afff1b7d-a37c-4096-a057-d648a2c7b37a\", \"20201226-1ETH-txs.zip\", 1095368)"
            ],
            "text/plain": [
              "<IPython.core.display.Javascript object>"
            ]
          },
          "metadata": {
            "tags": []
          }
        }
      ]
    }
  ]
}